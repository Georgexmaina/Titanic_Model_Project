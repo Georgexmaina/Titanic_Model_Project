{
  "nbformat": 4,
  "nbformat_minor": 0,
  "metadata": {
    "colab": {
      "private_outputs": true,
      "provenance": []
    },
    "kernelspec": {
      "name": "python3",
      "display_name": "Python 3"
    },
    "language_info": {
      "name": "python"
    }
  },
  "cells": [
    {
      "cell_type": "code",
      "execution_count": null,
      "metadata": {
        "id": "4RRGVf85cjTa"
      },
      "outputs": [],
      "source": [
        "#import necessary libraries\n",
        "import pandas as pd\n",
        "import numpy as np\n"
      ]
    },
    {
      "cell_type": "markdown",
      "source": [
        "- Pandas library is used to manipulate and read data in the notebook\n",
        "-Numpy library is used to work on arrays and numerical data\n"
      ],
      "metadata": {
        "id": "_HAIym2gK2CQ"
      }
    },
    {
      "cell_type": "code",
      "source": [
        "#import dataset from drive\n",
        "from google.colab import drive\n",
        "drive.mount('/content/drive')"
      ],
      "metadata": {
        "id": "egRIQOoccwqN"
      },
      "execution_count": null,
      "outputs": []
    },
    {
      "cell_type": "markdown",
      "source": [
        "Through the google colab library use the function drive to give the notebook permission to access my files"
      ],
      "metadata": {
        "id": "9n4pGI6zLbvW"
      }
    },
    {
      "cell_type": "code",
      "source": [
        "titanic = pd.read_csv('/content/drive/My Drive/Titanic  Dataset.csv')"
      ],
      "metadata": {
        "id": "bnl1MNXndgZP"
      },
      "execution_count": null,
      "outputs": []
    },
    {
      "cell_type": "markdown",
      "source": [
        "Using my given variable titanic I manipulated the dataset from my Google drive to the notebook"
      ],
      "metadata": {
        "id": "Heu49j78L_N_"
      }
    },
    {
      "cell_type": "code",
      "source": [
        "#View data\n",
        "titanic.head(10)"
      ],
      "metadata": {
        "id": "U3xxytnJekHN"
      },
      "execution_count": null,
      "outputs": []
    },
    {
      "cell_type": "markdown",
      "source": [
        "- Viewing the first 10 rows in my data"
      ],
      "metadata": {
        "id": "5mlSZtDLMPmx"
      }
    },
    {
      "cell_type": "markdown",
      "source": [
        "**DATA PREPROCESSING**"
      ],
      "metadata": {
        "id": "NteuqTh1hEBt"
      }
    },
    {
      "cell_type": "code",
      "source": [
        "#Checking the structure of the data\n",
        "titanic.info()"
      ],
      "metadata": {
        "id": "Jk0BeApUoVE_"
      },
      "execution_count": null,
      "outputs": []
    },
    {
      "cell_type": "markdown",
      "source": [
        "-Checking a summary of the data(How many rows in each column and their datatypes and non-null counts)"
      ],
      "metadata": {
        "id": "ktv_MJNBNVwV"
      }
    },
    {
      "cell_type": "code",
      "source": [
        "#Check for categorical and non categorical\n",
        "categorical_column = []\n",
        "non_categorical_column =[]\n",
        "for column in titanic.columns:\n",
        "  if titanic[column].dtype == 'object' or titanic[column].dtype == 'category':\n",
        "    categorical_column.append(column)\n",
        "  else:\n",
        "    non_categorical_column.append(column)\n",
        "print(\"Categorical column is:\")\n",
        "print(categorical_column)\n",
        "print(\"\\nnon_categorical column is:\")\n",
        "print(non_categorical_column)"
      ],
      "metadata": {
        "id": "h7VsklUUhDp-"
      },
      "execution_count": null,
      "outputs": []
    },
    {
      "cell_type": "markdown",
      "source": [
        "- Grouping our data to check for categorical and non categorical dtypes"
      ],
      "metadata": {
        "id": "8L9c4k_UNx9d"
      }
    },
    {
      "cell_type": "markdown",
      "source": [
        "**Data Cleaning**"
      ],
      "metadata": {
        "id": "daIXRcmlOTDI"
      }
    },
    {
      "cell_type": "code",
      "source": [
        "#Check nulls\n",
        "titanic.isnull().sum()"
      ],
      "metadata": {
        "id": "YUFqbaJ6eot5"
      },
      "execution_count": null,
      "outputs": []
    },
    {
      "cell_type": "markdown",
      "source": [
        "- Since there are nulls in Age, Cabin and Embarked, clean the data by removing the nulls"
      ],
      "metadata": {
        "id": "CD7KYlFPObYU"
      }
    },
    {
      "cell_type": "code",
      "source": [
        "#Replacing the age nulls with mean\n",
        "titanic['Age'].fillna(titanic['Age'].mean(),inplace=True)\n",
        "titanic['Age'].isnull().sum()"
      ],
      "metadata": {
        "id": "QuM0_SYRgebB"
      },
      "execution_count": null,
      "outputs": []
    },
    {
      "cell_type": "markdown",
      "source": [
        "- Since age is an integer, replace the nulls with mean"
      ],
      "metadata": {
        "id": "eOFNro1-O00Y"
      }
    },
    {
      "cell_type": "code",
      "source": [
        "#Replacing cabin and embarked nulls to mode\n",
        "titanic['Cabin'].fillna(titanic['Cabin'].mode()[0],inplace=True)\n",
        "titanic['Embarked'].fillna(titanic['Embarked'].mode()[0],inplace=True)\n"
      ],
      "metadata": {
        "id": "aMFtvB7Gi_4w"
      },
      "execution_count": null,
      "outputs": []
    },
    {
      "cell_type": "code",
      "source": [
        "titanic['Cabin'].isnull().sum()\n",
        "titanic['Embarked'].isnull().sum()"
      ],
      "metadata": {
        "id": "cFzTsBC4lK-6"
      },
      "execution_count": null,
      "outputs": []
    },
    {
      "cell_type": "markdown",
      "source": [
        "Cabin and Embarked are objects in categorical data and their nulls are replaced with mode"
      ],
      "metadata": {
        "id": "hgCrrc8yPQlw"
      }
    },
    {
      "cell_type": "code",
      "source": [
        "#Check for duplicates\n",
        "titanic.duplicated().sum()"
      ],
      "metadata": {
        "id": "mVyu10Velez0"
      },
      "execution_count": null,
      "outputs": []
    },
    {
      "cell_type": "markdown",
      "source": [
        "Check if the data had duplicates in which case there wasn't"
      ],
      "metadata": {
        "id": "cy1sxEYxPhHo"
      }
    },
    {
      "cell_type": "code",
      "source": [
        "#Checking the statistical data\n",
        "titanic.describe()"
      ],
      "metadata": {
        "id": "2ed4eYq9llrw"
      },
      "execution_count": null,
      "outputs": []
    },
    {
      "cell_type": "markdown",
      "source": [
        "- View a summary of the statistics of the data"
      ],
      "metadata": {
        "id": "ptYm6IsgPqF1"
      }
    },
    {
      "cell_type": "markdown",
      "source": [
        "**MODEL BUILDING**"
      ],
      "metadata": {
        "id": "DZ-G_uuZos8S"
      }
    },
    {
      "cell_type": "code",
      "source": [
        "titanic['Survived'].unique()"
      ],
      "metadata": {
        "id": "Fp2dIG7EpVtG"
      },
      "execution_count": null,
      "outputs": []
    },
    {
      "cell_type": "markdown",
      "source": [
        "In binary classification 0 means false and 1 meants true\n",
        "so 0 means no survival and 1 means survival\n",
        "\n",
        "Our target variable is Survived and it is binary so its best to use Logistic regression which deals with binary classification\n"
      ],
      "metadata": {
        "id": "OSR3z2GxqrZZ"
      }
    },
    {
      "cell_type": "code",
      "source": [
        "from sklearn.model_selection import train_test_split\n",
        "from sklearn.linear_model import LogisticRegression\n",
        "from sklearn.metrics import accuracy_score,roc_auc_score\n"
      ],
      "metadata": {
        "id": "fT6cu-MGnegV"
      },
      "execution_count": null,
      "outputs": []
    },
    {
      "cell_type": "markdown",
      "source": [
        "Import the necessary libraries for training and testing the model"
      ],
      "metadata": {
        "id": "ekGIYhuTQqXl"
      }
    },
    {
      "cell_type": "markdown",
      "source": [
        "**Feature Engineering**"
      ],
      "metadata": {
        "id": "8EnWnwVXRAGb"
      }
    },
    {
      "cell_type": "markdown",
      "source": [
        "Transform raw data from our data to features usable in machine learning.\n",
        "\n",
        "Do this by encoding the relevant data to be used\n"
      ],
      "metadata": {
        "id": "oMDr8dcWREeA"
      }
    },
    {
      "cell_type": "code",
      "source": [
        "#Encoding the relevant categorical columns\n",
        "#encoding sex\n",
        "titanic['Sex'].unique()\n",
        "titanic['Sex'] = titanic['Sex'].map({'male':0,'female':1})\n",
        "print(titanic['Sex'].unique())\n"
      ],
      "metadata": {
        "id": "csmsK2oMqpRB"
      },
      "execution_count": null,
      "outputs": []
    },
    {
      "cell_type": "code",
      "source": [
        "#Encoding embarked\n",
        "titanic['Embarked'].unique()\n",
        "titanic['Embarked'] = titanic['Embarked'].map( {'S':0, 'C':1, 'Q':2})\n",
        "print(titanic['Embarked'].unique())"
      ],
      "metadata": {
        "id": "ukjfr-TKtAvg"
      },
      "execution_count": null,
      "outputs": []
    },
    {
      "cell_type": "markdown",
      "source": [
        "**Training and Testing the model**"
      ],
      "metadata": {
        "id": "VcBKbUz1Xe82"
      }
    },
    {
      "cell_type": "code",
      "source": [
        "#give variable x and y\n",
        "x = titanic[['Pclass', 'Sex', 'Age', 'SibSp', 'Parch', 'Fare', 'Embarked']]\n",
        "y = titanic['Survived']"
      ],
      "metadata": {
        "id": "EKBMb92twUZ5"
      },
      "execution_count": null,
      "outputs": []
    },
    {
      "cell_type": "code",
      "source": [
        "#train and test the data\n",
        "x_train,x_test,y_train,y_test = train_test_split(x,y,test_size=0.2,random_state=50)\n"
      ],
      "metadata": {
        "id": "saxnAGAFyMfy"
      },
      "execution_count": null,
      "outputs": []
    },
    {
      "cell_type": "markdown",
      "source": [
        "- Train the data at 80% and test it at 20%\n",
        "- Random_state is a parameter used in shuffling the data before splitting it\n",
        "- the more it increases the better your model performs and in this case the best RS was 50"
      ],
      "metadata": {
        "id": "yiS7ymLkU2VR"
      }
    },
    {
      "cell_type": "code",
      "source": [
        "#Give model variable\n",
        "model = LogisticRegression(max_iter=1000)"
      ],
      "metadata": {
        "id": "a4Ipx2Eiyqo1"
      },
      "execution_count": null,
      "outputs": []
    },
    {
      "cell_type": "markdown",
      "source": [
        "Give the model a variable"
      ],
      "metadata": {
        "id": "cpHXi9gsWIQ0"
      }
    },
    {
      "cell_type": "code",
      "source": [
        "#fit the model\n",
        "model.fit(x_train,y_train)"
      ],
      "metadata": {
        "id": "AnKV2K4NWSQg"
      },
      "execution_count": null,
      "outputs": []
    },
    {
      "cell_type": "code",
      "source": [
        "#make predictions\n",
        "y_pred = model.predict(x_test)"
      ],
      "metadata": {
        "id": "9xCK42MWWbLr"
      },
      "execution_count": null,
      "outputs": []
    },
    {
      "cell_type": "markdown",
      "source": [
        "Make a prediction of the outcome you need"
      ],
      "metadata": {
        "id": "cZcKfKxfWvQt"
      }
    },
    {
      "cell_type": "code",
      "source": [
        "#Get the accuracy\n",
        "accuracy = accuracy_score(y_test, y_pred)\n",
        "print(\"Accuracy:\", accuracy)\n"
      ],
      "metadata": {
        "id": "NDHIHeB3W2G1"
      },
      "execution_count": null,
      "outputs": []
    },
    {
      "cell_type": "markdown",
      "source": [
        "Get the accuracy of the prediction\n",
        "\n",
        "The model was 80% accurate"
      ],
      "metadata": {
        "id": "ZV9UJJP8XHTw"
      }
    },
    {
      "cell_type": "markdown",
      "source": [
        "**Retraining the data with more independent variables to increase performance**\n"
      ],
      "metadata": {
        "id": "u7rWp_DuXsTL"
      }
    },
    {
      "cell_type": "markdown",
      "source": [
        "- Encode the remaining columns in categorical columns to use them as indepent variables"
      ],
      "metadata": {
        "id": "D27HRcDiX_Vq"
      }
    },
    {
      "cell_type": "code",
      "source": [
        "#Encode the columns using labelencoder\n",
        "from sklearn.preprocessing import LabelEncoder\n",
        "le=LabelEncoder()\n",
        "#encoding the remaining categorical columns\n",
        "encoded_columns = ['Name', 'Ticket', 'Cabin']\n",
        "for column in encoded_columns:\n",
        "    titanic[column] = le.fit_transform(titanic[column])"
      ],
      "metadata": {
        "id": "jHZmleZoY0w8"
      },
      "execution_count": null,
      "outputs": []
    },
    {
      "cell_type": "code",
      "source": [
        "#Add the columns to x variables and train and test\n",
        "x = titanic[['Pclass', 'Sex', 'Age', 'SibSp', 'Parch', 'Fare', 'Embarked', 'Name', 'Ticket', 'Cabin']]\n",
        "y = titanic['Survived']\n",
        "#train and test the data\n",
        "x_train,x_test,y_train,y_test = train_test_split(x,y,test_size=0.2,random_state=50)\n",
        "#give the model a variable\n",
        "model = LogisticRegression(max_iter=1000)\n",
        "#fit the model\n",
        "model.fit(x_train,y_train)\n",
        "#make predictions\n",
        "y_pred = model.predict(x_test)\n",
        "#Get the accuracy\n",
        "accuracy = accuracy_score(y_test, y_pred)\n",
        "print(\"Accuracy:\", accuracy)"
      ],
      "metadata": {
        "id": "F4T2FG0vZhlS"
      },
      "execution_count": null,
      "outputs": []
    },
    {
      "cell_type": "markdown",
      "source": [
        "After including all the columns as the independent variable, the model accuracy increased to 82%\n",
        "\n",
        "All columns were important in predicting the outcome of our model."
      ],
      "metadata": {
        "id": "lpVUFK8maT3w"
      }
    },
    {
      "cell_type": "markdown",
      "source": [
        "**HYPERPARAMETERS**"
      ],
      "metadata": {
        "id": "Voa3swFDa62P"
      }
    },
    {
      "cell_type": "markdown",
      "source": [
        "The model was 82% accurate. Hyperparameters are used to improve the model performance by tuning the model using parameters to a better percentage"
      ],
      "metadata": {
        "id": "3mIqOibhbAig"
      }
    },
    {
      "cell_type": "code",
      "source": [
        "model = LogisticRegression(max_iter=1000)\n",
        "#parameters in logistic regression\n",
        "param_grid = {\n",
        "    'C': [0.001,0.01,0.1,1]\n",
        "}"
      ],
      "metadata": {
        "id": "f_1nuhhq9aJb"
      },
      "execution_count": null,
      "outputs": []
    },
    {
      "cell_type": "markdown",
      "source": [
        "Make a library of the parameter of which will be used to find the best parameter"
      ],
      "metadata": {
        "id": "CleWV9hhbiPl"
      }
    },
    {
      "cell_type": "code",
      "source": [
        "from sklearn.linear_model import LogisticRegression\n",
        "from sklearn.model_selection import GridSearchCV\n",
        "from sklearn.metrics import accuracy_score,roc_auc_score\n"
      ],
      "metadata": {
        "id": "wfXAzRn_9mhV"
      },
      "execution_count": null,
      "outputs": []
    },
    {
      "cell_type": "markdown",
      "source": [
        "Import the gridsearchcv funtion from the sklearn model selection library which will help in finding the best parameters to use"
      ],
      "metadata": {
        "id": "FBPu7YvLeMp6"
      }
    },
    {
      "cell_type": "code",
      "source": [
        "grid_search = GridSearchCV(estimator=model, param_grid=param_grid, cv=5)\n",
        "grid_search.fit(x_train, y_train)\n",
        "best_params = grid_search.best_params_\n",
        "print(best_params)"
      ],
      "metadata": {
        "id": "gP53Tyw99oKQ"
      },
      "execution_count": null,
      "outputs": []
    },
    {
      "cell_type": "markdown",
      "source": [
        "- cv stands for cross validdation in which the data will be split 5 times and trained/tested to different hyperparameters\n",
        "- Fit the grid search to the data.\n",
        "- After the grid search, using the function best_params_, find the best parameters in the parameter grid"
      ],
      "metadata": {
        "id": "1gC3PGs3e5BK"
      }
    },
    {
      "cell_type": "markdown",
      "source": [
        "Fit the new model to the data"
      ],
      "metadata": {
        "id": "igcwJFCOmf6r"
      }
    },
    {
      "cell_type": "code",
      "source": [
        "model.fit(x_train,y_train)"
      ],
      "metadata": {
        "id": "tV45IhZi1hCT"
      },
      "execution_count": null,
      "outputs": []
    },
    {
      "cell_type": "code",
      "source": [
        "#retrain model using the best params\n",
        "best_model = LogisticRegression(max_iter=1000,**best_params)\n",
        "best_model.fit(x_train, y_train)"
      ],
      "metadata": {
        "id": "-AMKwHYF-vCJ"
      },
      "execution_count": null,
      "outputs": []
    },
    {
      "cell_type": "code",
      "source": [
        "#predict the outcome of the retrained model\n",
        "y_pred = best_model.predict(x_test)"
      ],
      "metadata": {
        "id": "_SGuJpdi-8Se"
      },
      "execution_count": null,
      "outputs": []
    },
    {
      "cell_type": "code",
      "source": [
        "#Get the accuracy score\n",
        "from sklearn.metrics import accuracy_score,roc_auc_score\n",
        "accuracy = accuracy_score(y_test, y_pred)\n",
        "roc_auc_score = roc_auc_score(y_test, best_model.predict_proba(x_test)[:,1])\n",
        "print(f\"Accuracy: {accuracy}\")\n",
        "print(f\"ROC AUC Score: {roc_auc_score}\")\n"
      ],
      "metadata": {
        "id": "-BJohyDJ_Kao"
      },
      "execution_count": null,
      "outputs": []
    },
    {
      "cell_type": "markdown",
      "source": [
        "**Hyperparameter tuning 2**"
      ],
      "metadata": {
        "id": "wruGYvT-vmMl"
      }
    },
    {
      "cell_type": "code",
      "source": [
        "model = LogisticRegression(max_iter=1000)\n",
        "model.fit(x_train, y_train)"
      ],
      "metadata": {
        "id": "x3Hsrjyw6oI0"
      },
      "execution_count": null,
      "outputs": []
    },
    {
      "cell_type": "code",
      "source": [
        "param_grid = {\n",
        "  'penalty': ['l2']\n",
        "\n",
        "}"
      ],
      "metadata": {
        "id": "su22q-xWM7sB"
      },
      "execution_count": null,
      "outputs": []
    },
    {
      "cell_type": "code",
      "source": [
        "grid_search = GridSearchCV(estimator = model, param_grid = param_grid, cv=5)\n",
        "grid_search.fit(x_train,y_train)\n",
        "grid_search =GridSearchCV(estimator=model,param_grid=param_grid,cv=5)\n",
        "grid_search.fit(x_train,y_train)\n",
        "best_params = grid_search.best_params_\n",
        "print(best_params)"
      ],
      "metadata": {
        "id": "VCKhNxYpwPS3"
      },
      "execution_count": null,
      "outputs": []
    },
    {
      "cell_type": "code",
      "source": [
        "#Retraining the retrained model on the entire retrained training set\n",
        "best_model = LogisticRegression(max_iter=1000,**best_params)\n",
        "best_model.fit(x_train, y_train)"
      ],
      "metadata": {
        "id": "oFRg77SjDk-X"
      },
      "execution_count": null,
      "outputs": []
    },
    {
      "cell_type": "code",
      "source": [
        "#evaluate the best model1\n",
        "y_pred = best_model.predict(x_test)"
      ],
      "metadata": {
        "id": "ULHsKzI2EVnT"
      },
      "execution_count": null,
      "outputs": []
    },
    {
      "cell_type": "code",
      "source": [
        "#Get the accuracy\n",
        "from sklearn.metrics import roc_auc_score\n",
        "accuracy1 = accuracy_score(y_test, y_pred)\n",
        "roc_auc= roc_auc_score(y_test, model.predict_proba(x_test)[:,1])\n",
        "print(\"Accuracy:\", accuracy1)\n",
        "print(\"ROC AUC Score:\", roc_auc)"
      ],
      "metadata": {
        "id": "Z5ahulBlE989"
      },
      "execution_count": null,
      "outputs": []
    },
    {
      "cell_type": "markdown",
      "source": [
        "ALTERNATIVELY\n"
      ],
      "metadata": {
        "id": "75nNflgn1iWm"
      }
    },
    {
      "cell_type": "markdown",
      "source": [
        "Using a different model"
      ],
      "metadata": {
        "id": "NDrY30uc1psI"
      }
    },
    {
      "cell_type": "markdown",
      "source": [
        "**Random Forest**"
      ],
      "metadata": {
        "id": "w9fGaHtI1xIJ"
      }
    },
    {
      "cell_type": "code",
      "source": [
        "\n",
        "from sklearn.ensemble import RandomForestClassifier\n",
        "from sklearn.model_selection import train_test_split\n",
        "from sklearn.metrics import accuracy_score"
      ],
      "metadata": {
        "id": "pntK-9vuu7aL"
      },
      "execution_count": null,
      "outputs": []
    },
    {
      "cell_type": "code",
      "source": [
        "#Add the columns to x variables and train and test\n",
        "x = titanic[['Pclass', 'Sex', 'Age', 'SibSp', 'Parch', 'Fare', 'Embarked', 'Name', 'Ticket', 'Cabin']]\n",
        "y = titanic['Survived']\n",
        "#train and test the data\n",
        "x_train,x_test,y_train,y_test = train_test_split(x,y,test_size=0.2,random_state=50)\n",
        "#give our model a variable\n",
        "model = RandomForestClassifier(criterion = 'gini', max_depth = 3,random_state=0)\n",
        "#Fit and train our model\n",
        "model.fit(x_train, y_train)\n",
        "#make predictions\n",
        "y_pred = model.predict(x_test)\n",
        "#Get the accuracy\n",
        "accuracy = accuracy_score(y_test, y_pred)\n",
        "print(\"Accuracy:\", accuracy)"
      ],
      "metadata": {
        "id": "KYPZcQrV2zoK"
      },
      "execution_count": null,
      "outputs": []
    },
    {
      "cell_type": "markdown",
      "source": [
        "Random Forest classifier had a 82% accuracy better than Logistic regression"
      ],
      "metadata": {
        "id": "281otg5p_hbA"
      }
    },
    {
      "cell_type": "markdown",
      "source": [
        "**Hyperparameter tuning in Random Forest**"
      ],
      "metadata": {
        "id": "9bRqq2UC4M2R"
      }
    },
    {
      "cell_type": "code",
      "source": [
        "#get the param grid\n",
        "param_grid = {\n",
        "    'min_samples_split': [2, 3, 4],\n",
        "    'min_samples_leaf': [1, 2, 3]\n",
        "}\n"
      ],
      "metadata": {
        "id": "f27Hk-nA4TWl"
      },
      "execution_count": null,
      "outputs": []
    },
    {
      "cell_type": "code",
      "source": [
        "from sklearn.model_selection import GridSearchCV\n",
        "#create a model variable\n",
        "dt = RandomForestClassifier(criterion='gini',max_depth=3)\n",
        "#perform grid search\n",
        "grid_search = GridSearchCV(dt, param_grid, cv=5)\n",
        "#fit the grid search\n",
        "grid_search.fit(x_train, y_train)\n",
        "best_params = grid_search.best_params_\n",
        "print(best_params)"
      ],
      "metadata": {
        "id": "gKD-u3pZ4eXh"
      },
      "execution_count": null,
      "outputs": []
    },
    {
      "cell_type": "code",
      "source": [
        "from sklearn.metrics import roc_auc_score\n",
        "#Original fit and prediction\n",
        "model.fit(x_train,y_train)\n",
        "y_pred = model.predict(x_test)\n",
        " #name the retrained model\n",
        "best_model =RandomForestClassifier(**best_params)\n",
        "best_model.fit(x_train,y_train)\n",
        "y_pred_best = best_model.predict_proba(x_test)[:, 1]\n",
        "\n",
        "\n",
        "accuracy = accuracy_score(y_test,y_pred)\n",
        "\n",
        "roc_auc_score = roc_auc_score(y_test, y_pred_best)\n",
        "\n",
        "print(f\"Accuracy score: {accuracy}\")\n",
        "print(f\"ROC AUC SCORE: {roc_auc_score}\")"
      ],
      "metadata": {
        "id": "1yLsiPNF7oNY"
      },
      "execution_count": null,
      "outputs": []
    },
    {
      "cell_type": "markdown",
      "source": [
        "Hyperparameters in Random forest tuned the 82% model to 88% model\n",
        "\n",
        "This makes Random Forest the most fit model in predicting the data"
      ],
      "metadata": {
        "id": "rsU_5c7hKtuR"
      }
    },
    {
      "cell_type": "code",
      "source": [],
      "metadata": {
        "id": "vewN1tHJBvQ2"
      },
      "execution_count": null,
      "outputs": []
    }
  ]
}